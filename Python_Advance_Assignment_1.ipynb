{
 "cells": [
  {
   "cell_type": "code",
   "execution_count": null,
   "id": "cafdf8fd",
   "metadata": {},
   "outputs": [],
   "source": [
    "Q1: What is the purpose of Python's OOP?\n",
    "    \n",
    "Solution:\n",
    "    \n",
    "Object Oriented programming (OOP) is a programming paradigm that relies on the concept of classes and objects.\n",
    "It is used to structure a software program into simple, reusable pieces of code blueprints (usually called classes), \n",
    "which are used to create individual instances of objects."
   ]
  },
  {
   "cell_type": "code",
   "execution_count": null,
   "id": "7afc6629",
   "metadata": {},
   "outputs": [],
   "source": [
    "Q2: Where does an inheritance search look for an attribute?\n",
    "\n",
    "Solution:\n",
    "    \n",
    "The inheritance search is simply a search of the tree ,\n",
    "from bottom to top looking for the lowest occurrence of an attribute name."
   ]
  },
  {
   "cell_type": "code",
   "execution_count": null,
   "id": "304edb6f",
   "metadata": {},
   "outputs": [],
   "source": [
    "Q3: How do you distinguish between a class object and an instance object?\n",
    "\n",
    "Solution:\n",
    "    \n",
    "Class is the most fundamental piece of Python because it serves as the essence of object oriented programming. \n",
    "Everything in Python is an object such as integers, lists, dictionaries, functions and so on.\n",
    "Instance is an object that belongs to a class. For instance, list is a class in Python."
   ]
  },
  {
   "cell_type": "code",
   "execution_count": null,
   "id": "91f972c1",
   "metadata": {},
   "outputs": [],
   "source": [
    "Q4: What makes the first argument in a class’s method function special?\n",
    "    \n",
    "Solution:\n",
    "    \n",
    "The first argument of every class method, including init, is always a reference to the current instance of the class.\n",
    "By convention, this argument is always named self. \n",
    "In the init method, self refers to the newly created object; in other class methods, \n",
    "it refers to the instance whose method was called."
   ]
  },
  {
   "cell_type": "code",
   "execution_count": null,
   "id": "3dc2916f",
   "metadata": {},
   "outputs": [],
   "source": [
    "Q5: What is the purpose of the __init__ method?\n",
    "    \n",
    "Solution:\n",
    "    \n",
    "It is known as a constructor in OOP concepts. \n",
    "This method called when an object is created from the class and it allows the class to initialize the attributes of a class."
   ]
  },
  {
   "cell_type": "code",
   "execution_count": null,
   "id": "f4ae9dc5",
   "metadata": {},
   "outputs": [],
   "source": [
    "Q6: What is the process for creating a class instance?\n",
    "    \n",
    "Solution:\n",
    "    \n",
    "We will use the class name to create a new instance.\n",
    "In order to pass parameters to the class instance, the class must have an __init__() method.\n",
    "Pass the parameters in the constructor of the class."
   ]
  },
  {
   "cell_type": "code",
   "execution_count": null,
   "id": "f71df97b",
   "metadata": {},
   "outputs": [],
   "source": [
    "Q7:What is the process for creating a class?\n",
    "    \n",
    "Solution:\n",
    "    \n",
    "There are three steps when creating an object from a class.\n",
    "Declaration : A variable declaration with a variable name with an object type. \n",
    "Instantiation : The 'new' keyword is used to create the object. \n",
    "Initialization : The 'new' keyword is followed by a call a constructor."
   ]
  },
  {
   "cell_type": "code",
   "execution_count": null,
   "id": "49d5d2c9",
   "metadata": {},
   "outputs": [],
   "source": [
    "Q8: How would you define the superclasses of a class?\n",
    "\n",
    "Solution:\n",
    "    \n",
    "A superclass is the class from which many subclasses can be created.\n",
    "The subclasses inherit the characteristics of a superclass. \n",
    "The superclass is also known as the parent class or base class"
   ]
  }
 ],
 "metadata": {
  "kernelspec": {
   "display_name": "Python 3 (ipykernel)",
   "language": "python",
   "name": "python3"
  },
  "language_info": {
   "codemirror_mode": {
    "name": "ipython",
    "version": 3
   },
   "file_extension": ".py",
   "mimetype": "text/x-python",
   "name": "python",
   "nbconvert_exporter": "python",
   "pygments_lexer": "ipython3",
   "version": "3.9.7"
  }
 },
 "nbformat": 4,
 "nbformat_minor": 5
}
